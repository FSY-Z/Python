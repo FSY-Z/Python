{
  "nbformat": 4,
  "nbformat_minor": 0,
  "metadata": {
    "colab": {
      "provenance": []
    },
    "kernelspec": {
      "name": "python3",
      "display_name": "Python 3"
    },
    "language_info": {
      "name": "python"
    }
  },
  "cells": [
    {
      "cell_type": "code",
      "execution_count": null,
      "metadata": {
        "id": "NT3f4YfBadXT"
      },
      "outputs": [],
      "source": [
        "def flames(n1,n2):\n",
        "  for i in n1:\n",
        "    for j in n2:\n",
        "      if i==j:\n",
        "        n1 = n1.replace(i,\"\",1)\n",
        "        i = \"\"\n",
        "        n2 = n2.replace(j,\"\",1)\n",
        "\n",
        "  n3 = len(n1+n2)\n",
        "  return n3\n",
        "\n",
        "x = input(\"Please enter your name : \")\n",
        "y = input(\"Please enter your name : \")\n",
        "z = flames(x,y)\n",
        "print(z)\n",
        "\n",
        "if z >= 0:\n",
        "  flameslist = [\"Friends\", \"Lovers\", \"Affection\", \"Marriage\", \"Enemies\", \"Siblings\"]\n",
        "  while len(flameslist) > 1:\n",
        "    count = z % len(flameslist)\n",
        "    split = count - 1\n",
        "\n",
        "    if split >= 0:\n",
        "      right = flameslist[split+1:]\n",
        "      left = flameslist[:split]\n",
        "      flameslist = right + left\n",
        "      print(flameslist)\n",
        "\n",
        "    else:\n",
        "     flameslist = flameslist[:len(flameslist)-1]\n",
        "  print(\"Your relationship with the second person is : \", flameslist[0])\n",
        "\n",
        "else:\n",
        "  print(\"Enter other name\")"
      ]
    }
  ]
}