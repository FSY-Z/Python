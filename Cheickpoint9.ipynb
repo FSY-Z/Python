{
  "nbformat": 4,
  "nbformat_minor": 0,
  "metadata": {
    "colab": {
      "provenance": []
    },
    "kernelspec": {
      "name": "python3",
      "display_name": "Python 3"
    },
    "language_info": {
      "name": "python"
    }
  },
  "cells": [
    {
      "cell_type": "code",
      "source": [
        "fozi = open(\"/content/pgcd.txt\")\n",
        "fozi.read()"
      ],
      "metadata": {
        "id": "EB4bMzyLIsti"
      },
      "execution_count": null,
      "outputs": []
    },
    {
      "cell_type": "code",
      "source": [
        "fozi = open(\"/content/pgcd.txt\")\n",
        "n = int(input())\n",
        "\n",
        "for i in range(n):\n",
        "  print(fozi.readline())"
      ],
      "metadata": {
        "id": "lZq1fi4GI-B_"
      },
      "execution_count": null,
      "outputs": []
    },
    {
      "cell_type": "code",
      "source": [
        "fozi = open(\"/content/pgcd.txt\")\n",
        "\n",
        "n = int(input())\n",
        "\n",
        "for i in (fozi.readlines() [-n:]):\n",
        "  print(i)"
      ],
      "metadata": {
        "id": "lyAgET8CP9-E"
      },
      "execution_count": null,
      "outputs": []
    },
    {
      "cell_type": "code",
      "source": [
        "fozi = open(\"/content/pgcd.txt\")\n",
        "\n",
        "d = fozi.read()\n",
        "\n",
        "dl = d.split()\n",
        "\n",
        "print(len(dl))"
      ],
      "metadata": {
        "colab": {
          "base_uri": "https://localhost:8080/"
        },
        "id": "pFYgC8qzQ1sz",
        "outputId": "d60311e6-f060-431c-a2a3-9548f5d27b1b"
      },
      "execution_count": 31,
      "outputs": [
        {
          "output_type": "stream",
          "name": "stdout",
          "text": [
            "100\n"
          ]
        }
      ]
    }
  ]
}