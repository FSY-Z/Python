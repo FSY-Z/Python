{
  "nbformat": 4,
  "nbformat_minor": 0,
  "metadata": {
    "colab": {
      "provenance": [],
      "collapsed_sections": []
    },
    "kernelspec": {
      "name": "python3",
      "display_name": "Python 3"
    },
    "language_info": {
      "name": "python"
    }
  },
  "cells": [
    {
      "cell_type": "code",
      "execution_count": null,
      "metadata": {
        "id": "CNfvGCvvOYKk"
      },
      "outputs": [],
      "source": [
        "#question1\n",
        "\n",
        "x = [2, 3, 6]\n",
        "\n",
        "sum = 1 \n",
        "for i in x:\n",
        "  sum *= i\n",
        "  print(sum)"
      ]
    },
    {
      "cell_type": "code",
      "source": [
        "#question2\n",
        "\n",
        "x =  [(2, 5), (1, 2), (4, 4), (2, 3), (2, 1)]\n",
        "\n",
        "for j in range(len(x)-1):\n",
        "   for i in range(len(x)-1):\n",
        "     if x[i][1] > x[i+1][1]:\n",
        "       x[i] , x[i+1] = x[i+1] , x[i]\n",
        "print(x)"
      ],
      "metadata": {
        "id": "Ladhk7cHa5cQ"
      },
      "execution_count": null,
      "outputs": []
    },
    {
      "cell_type": "code",
      "source": [
        "#question3\n",
        "\n",
        "d1 = {'a': 100, 'b': 200, 'c':300}\n",
        "\n",
        "d2 = {'a': 300, 'b': 200, 'd':400}\n",
        "\n",
        "d3 = dict(d1)\n",
        "d3.update(d2)\n",
        "\n",
        "for i,j in d1.items():\n",
        "  for k,l in d2.items():\n",
        "    if i == k:\n",
        "      d3[i] = j + l\n",
        "print(d3)"
      ],
      "metadata": {
        "id": "odSai6Biepmc"
      },
      "execution_count": null,
      "outputs": []
    },
    {
      "cell_type": "code",
      "source": [
        "#question4\n",
        "\n",
        "x = int(input())\n",
        "\n",
        "d = {}\n",
        "for i in range(1,x+1):\n",
        "  d[i] = i*i\n",
        "print(d)"
      ],
      "metadata": {
        "id": "CR1dMJ7Fesuy"
      },
      "execution_count": null,
      "outputs": []
    },
    {
      "cell_type": "code",
      "source": [
        "#question5\n",
        "\n",
        "x = [('item1', '12.20'), ('item2', '15.10'), ('item3', '24.5')]\n",
        "\n",
        "for j in range(len(x)-1):\n",
        "   for i in range(len(x)-1):\n",
        "     if float(x[i][1]) < float(x[i+1][1]):\n",
        "       x[i] , x[i+1] = x[i+1] , x[i]\n",
        "print(x)"
      ],
      "metadata": {
        "id": "NRtgTJV9euwA"
      },
      "execution_count": null,
      "outputs": []
    }
  ]
}