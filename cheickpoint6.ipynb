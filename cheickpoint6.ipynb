{
  "nbformat": 4,
  "nbformat_minor": 0,
  "metadata": {
    "colab": {
      "provenance": []
    },
    "kernelspec": {
      "name": "python3",
      "display_name": "Python 3"
    },
    "language_info": {
      "name": "python"
    }
  },
  "cells": [
    {
      "cell_type": "code",
      "execution_count": null,
      "metadata": {
        "id": "dLAzSEaOCJkl"
      },
      "outputs": [],
      "source": [
        "#question1\n",
        "import numpy as np\n",
        "\n",
        "x = np.array([0,1,2,3,4,5,6,7,8,9])\n",
        "\n",
        "y = x.tolist()\n",
        "\n",
        "print(y)\n"
      ]
    },
    {
      "cell_type": "code",
      "source": [
        "#question2\n",
        "import numpy as np\n",
        "\n",
        "x = np.array([[2,5,9],[6,8,4],[5,7,2]])\n",
        "\n",
        "y = x.trace()\n",
        "\n",
        "print(y)"
      ],
      "metadata": {
        "id": "tBKbpr2BDYxi"
      },
      "execution_count": null,
      "outputs": []
    },
    {
      "cell_type": "code",
      "source": [
        "#question3\n",
        "import numpy as np\n",
        "x = np.array([[2,5,9],[6,8,4],[5,7,2]])\n",
        "b = 5\n",
        "\n",
        "print(x[x>b])"
      ],
      "metadata": {
        "id": "TjEX65r3G2mF"
      },
      "execution_count": null,
      "outputs": []
    },
    {
      "cell_type": "code",
      "source": [
        "#question4\n",
        "import numpy as np\n",
        "\n",
        "a = np.array([9,8,7])\n",
        "b = np.array([9,8,7])\n",
        "\n",
        "c = a+b\n",
        "\n",
        "print(c)"
      ],
      "metadata": {
        "id": "DI76vuG-HWP7"
      },
      "execution_count": null,
      "outputs": []
    },
    {
      "cell_type": "code",
      "source": [
        "#question5\n",
        "import numpy as np\n",
        "x = np.array([[2,5,9],[6,8,4],[5,7,2]])\n",
        "\n",
        "b = x.mean()\n",
        "print(x-b)"
      ],
      "metadata": {
        "id": "G9RbGMkAID0c"
      },
      "execution_count": null,
      "outputs": []
    }
  ]
}