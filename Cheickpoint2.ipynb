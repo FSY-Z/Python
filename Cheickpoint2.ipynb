{
  "nbformat": 4,
  "nbformat_minor": 0,
  "metadata": {
    "colab": {
      "provenance": [],
      "collapsed_sections": []
    },
    "kernelspec": {
      "name": "python3",
      "display_name": "Python 3"
    },
    "language_info": {
      "name": "python"
    }
  },
  "cells": [
    {
      "cell_type": "code",
      "execution_count": null,
      "metadata": {
        "colab": {
          "base_uri": "https://localhost:8080/"
        },
        "id": "4p3NOnMYLGST",
        "outputId": "a7dc99fc-594b-466f-f5ed-31a8be8ffafd"
      },
      "outputs": [
        {
          "output_type": "stream",
          "name": "stdout",
          "text": [
            "input your first name : Fozi\n",
            "input your last name : Cheick\n",
            "Hello Cheick Fozi\n"
          ]
        }
      ],
      "source": [
        "#question1\n",
        "fname = input(\"input your first name : \")\n",
        "lname = input(\"input your last name : \")\n",
        "\n",
        "print(\"Hello \" + lname + \" \" + fname)"
      ]
    },
    {
      "cell_type": "code",
      "source": [
        "#question2\n",
        "x = input()\n",
        "y = x + x\n",
        "z = y + x\n",
        "print(int(x) + int(y) + int(z))"
      ],
      "metadata": {
        "colab": {
          "base_uri": "https://localhost:8080/"
        },
        "id": "28-rp6AiLy6N",
        "outputId": "38806eeb-ead7-40e8-ffe8-c9d0214fd4ea"
      },
      "execution_count": null,
      "outputs": [
        {
          "output_type": "stream",
          "name": "stdout",
          "text": [
            "5\n",
            "615\n"
          ]
        }
      ]
    },
    {
      "cell_type": "code",
      "source": [
        "#question3\n",
        "x = 10 \n",
        "if x % 2 == 0:\n",
        "  print(\"this number is even\")\n",
        "else:\n",
        "  print(\"this numer is odd\")"
      ],
      "metadata": {
        "colab": {
          "base_uri": "https://localhost:8080/"
        },
        "id": "lmJwHsF2P7iw",
        "outputId": "f5713ffa-c9e4-45b0-a8ec-38c5002c6073"
      },
      "execution_count": null,
      "outputs": [
        {
          "output_type": "stream",
          "name": "stdout",
          "text": [
            "this number is even\n"
          ]
        }
      ]
    },
    {
      "cell_type": "code",
      "source": [
        "#question4\n",
        "nl=[]\n",
        "for x in range(2000, 3200):\n",
        "    if (x%7==0) and (x%5!=0):\n",
        "        nl.append(str(x))\n",
        "print (','.join(nl))\n"
      ],
      "metadata": {
        "colab": {
          "base_uri": "https://localhost:8080/"
        },
        "id": "2W8JfwS5RDWP",
        "outputId": "3bee5e1c-c45b-4a86-88f6-448266399e78"
      },
      "execution_count": null,
      "outputs": [
        {
          "output_type": "stream",
          "name": "stdout",
          "text": [
            "2002,2009,2016,2023,2037,2044,2051,2058,2072,2079,2086,2093,2107,2114,2121,2128,2142,2149,2156,2163,2177,2184,2191,2198,2212,2219,2226,2233,2247,2254,2261,2268,2282,2289,2296,2303,2317,2324,2331,2338,2352,2359,2366,2373,2387,2394,2401,2408,2422,2429,2436,2443,2457,2464,2471,2478,2492,2499,2506,2513,2527,2534,2541,2548,2562,2569,2576,2583,2597,2604,2611,2618,2632,2639,2646,2653,2667,2674,2681,2688,2702,2709,2716,2723,2737,2744,2751,2758,2772,2779,2786,2793,2807,2814,2821,2828,2842,2849,2856,2863,2877,2884,2891,2898,2912,2919,2926,2933,2947,2954,2961,2968,2982,2989,2996,3003,3017,3024,3031,3038,3052,3059,3066,3073,3087,3094,3101,3108,3122,3129,3136,3143,3157,3164,3171,3178,3192,3199\n"
          ]
        }
      ]
    },
    {
      "cell_type": "code",
      "source": [
        "#question5\n",
        "n = 6\n",
        "result = 1\n",
        "\n",
        "for i in range(1,7):\n",
        "  result = result * i\n",
        "\n",
        "print(result)\n"
      ],
      "metadata": {
        "colab": {
          "base_uri": "https://localhost:8080/"
        },
        "id": "uTjdXO0XSlrb",
        "outputId": "f99783ff-2260-4a21-cca1-6384cdcb1179"
      },
      "execution_count": null,
      "outputs": [
        {
          "output_type": "stream",
          "name": "stdout",
          "text": [
            "720\n"
          ]
        }
      ]
    },
    {
      "cell_type": "code",
      "source": [
        "#question6\n",
        "x = \"telecommunication\"\n",
        "\n",
        "result = x\n",
        "for i in range(len(x)):\n",
        "  if i % 2 ==0:\n",
        "    print(x[i], end=\"\")\n",
        "  "
      ],
      "metadata": {
        "colab": {
          "base_uri": "https://localhost:8080/"
        },
        "id": "Ov4f3QHqWq6c",
        "outputId": "95e81255-1f5d-4ca0-ad84-0aa36323ea2e"
      },
      "execution_count": null,
      "outputs": [
        {
          "output_type": "stream",
          "name": "stdout",
          "text": [
            "tlcmuiain"
          ]
        }
      ]
    },
    {
      "cell_type": "code",
      "source": [
        "#question7\n",
        "x = int(input())\n",
        "final_price = \"\"\n",
        "if x == 500 or x > 500:\n",
        "  final_price = x - (x * 0.5)\n",
        "elif 200 < x < 500:\n",
        "    final_price = x - (x * 0.3)\n",
        "elif x < 200:\n",
        "  final_price = x - (x * 0.1)\n",
        "print(final_price)\n",
        "  \n",
        "\n",
        "\n"
      ],
      "metadata": {
        "colab": {
          "base_uri": "https://localhost:8080/"
        },
        "id": "6xYIIYUako17",
        "outputId": "a3ca92e8-d8e1-4c3e-ec07-ad62f23bbb79"
      },
      "execution_count": null,
      "outputs": [
        {
          "output_type": "stream",
          "name": "stdout",
          "text": [
            "100\n",
            "90.0\n"
          ]
        }
      ]
    }
  ]
}