{
  "nbformat": 4,
  "nbformat_minor": 0,
  "metadata": {
    "colab": {
      "provenance": []
    },
    "kernelspec": {
      "name": "python3",
      "display_name": "Python 3"
    },
    "language_info": {
      "name": "python"
    }
  },
  "cells": [
    {
      "cell_type": "code",
      "execution_count": null,
      "metadata": {
        "id": "NT3f4YfBadXT"
      },
      "outputs": [],
      "source": [
        "def binary_search(sequence, item):\n",
        "\n",
        "  begin_index = 0\n",
        "  end_index = len(sequence) - 1\n",
        "\n",
        "   while begin_index <= end_index:\n",
        "     midpoint = begin_index + (end_index - begin_index) // 2\n",
        "     midpoint_value = sequence[midpoint]\n",
        "\n",
        "   if midpoint_value == item:\n",
        "     return midpoint\n",
        "    \n",
        "  elif item < midpoint_value:\n",
        "    end_index = midpoint - 1\n",
        "    \n",
        "    else:\n",
        "      begin_index = midpoint + 1\n",
        "      return \"False not found\"\n",
        "sequence_a = [1,2,3,5,8]\n",
        "item_a = 6\n",
        "sequence_b = [1,2,3,5,8]\n",
        "item_b = 5\n",
        "    print(binary_search(sequence_a, item_a))\n",
        "    print(binary_search(sequence_b, item_b))"
      ]
    },
    {
      "cell_type": "code",
      "source": [],
      "metadata": {
        "id": "TZmuc5awge7q"
      },
      "execution_count": null,
      "outputs": []
    }
  ]
}