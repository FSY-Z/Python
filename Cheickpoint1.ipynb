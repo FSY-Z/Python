{
  "nbformat": 4,
  "nbformat_minor": 0,
  "metadata": {
    "colab": {
      "name": "Cheickpoint1.ipynb",
      "provenance": []
    },
    "kernelspec": {
      "name": "python3",
      "display_name": "Python 3"
    },
    "language_info": {
      "name": "python"
    }
  },
  "cells": [
    {
      "cell_type": "code",
      "execution_count": 1,
      "metadata": {
        "colab": {
          "base_uri": "https://localhost:8080/"
        },
        "id": "tOCyrFWNbvwJ",
        "outputId": "98b1f614-4e5f-4c11-830f-e88ca6d5a790"
      },
      "outputs": [
        {
          "output_type": "stream",
          "name": "stdout",
          "text": [
            "Welcome to Python world! Let's start coding\n"
          ]
        }
      ],
      "source": [
        "print (\"Welcome to Python world! Let's start coding\")"
      ]
    },
    {
      "cell_type": "code",
      "source": [],
      "metadata": {
        "id": "ZYTiOBhycKSc"
      },
      "execution_count": null,
      "outputs": []
    }
  ]
}