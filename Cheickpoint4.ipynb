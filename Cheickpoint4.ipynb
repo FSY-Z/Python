{
  "nbformat": 4,
  "nbformat_minor": 0,
  "metadata": {
    "colab": {
      "provenance": [],
      "collapsed_sections": []
    },
    "kernelspec": {
      "name": "python3",
      "display_name": "Python 3"
    },
    "language_info": {
      "name": "python"
    }
  },
  "cells": [
    {
      "cell_type": "code",
      "execution_count": 5,
      "metadata": {
        "colab": {
          "base_uri": "https://localhost:8080/"
        },
        "id": "pnIclSPDzzPo",
        "outputId": "a8825c18-31b9-409a-b0ce-32629e0f94f6"
      },
      "outputs": [
        {
          "output_type": "stream",
          "name": "stdout",
          "text": [
            "90\n"
          ]
        }
      ],
      "source": [
        "#question1\n",
        "\n",
        "def maxi (a, b, c):\n",
        "  if a > b and a > c:\n",
        "    return a\n",
        "  elif b > a and b > c:\n",
        "    return b\n",
        "  else:\n",
        "    return c\n",
        "\n",
        "print(maxi(20, 30, 90))\n"
      ]
    },
    {
      "cell_type": "code",
      "source": [
        "#question2\n",
        "\n",
        "def calculation(a,b):\n",
        "  return a + b , a - b\n",
        "\n",
        "calculation(15,12)"
      ],
      "metadata": {
        "colab": {
          "base_uri": "https://localhost:8080/"
        },
        "id": "z7ZQDGr50bsQ",
        "outputId": "ef771347-c6c0-403a-f767-860cfa81afcb"
      },
      "execution_count": 22,
      "outputs": [
        {
          "output_type": "execute_result",
          "data": {
            "text/plain": [
              "(27, 3)"
            ]
          },
          "metadata": {},
          "execution_count": 22
        }
      ]
    },
    {
      "cell_type": "code",
      "source": [
        "#question3\n",
        "\n",
        "x = [1,2,3,4,5,6,7,8,9]\n",
        "\n",
        "def summ(k):\n",
        "  counter = 0\n",
        "  for i in k:\n",
        "    counter += i \n",
        "  return counter\n",
        "\n",
        "def multi(k):\n",
        "  counter = 1\n",
        "  for i in k:\n",
        "    counter *= i \n",
        "  return counter\n",
        "\n",
        "odd = []\n",
        "even = []\n",
        "for i in range(len(x)):\n",
        "  if i % 2 == 0:\n",
        "    even.append(x[i])\n",
        "  else :\n",
        "    odd.append(x[i])\n",
        "\n",
        "print(summ(even))\n",
        "print(multi(odd))"
      ],
      "metadata": {
        "id": "fSgYurgODLy_",
        "colab": {
          "base_uri": "https://localhost:8080/"
        },
        "outputId": "67a1e3de-1d1e-4ebb-ff3b-7a2fee6d159d"
      },
      "execution_count": 21,
      "outputs": [
        {
          "output_type": "stream",
          "name": "stdout",
          "text": [
            "25\n",
            "384\n"
          ]
        }
      ]
    },
    {
      "cell_type": "code",
      "source": [
        "#question4\n",
        "\n",
        "x = input().split(\"-\")\n",
        "x.sort()\n",
        "\n",
        "print(\"-\".join(x))"
      ],
      "metadata": {
        "colab": {
          "base_uri": "https://localhost:8080/"
        },
        "id": "nrN-fhOgBMYC",
        "outputId": "4b264bc0-fa96-4542-d47c-26675d9b5058"
      },
      "execution_count": 20,
      "outputs": [
        {
          "output_type": "stream",
          "name": "stdout",
          "text": [
            "green-red-yellow-black-white\n",
            "black-green-red-white-yellow\n"
          ]
        }
      ]
    },
    {
      "cell_type": "code",
      "source": [],
      "metadata": {
        "id": "SzSfBbDHFBY4"
      },
      "execution_count": null,
      "outputs": []
    }
  ]
}