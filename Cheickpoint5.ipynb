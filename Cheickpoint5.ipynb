{
  "nbformat": 4,
  "nbformat_minor": 0,
  "metadata": {
    "colab": {
      "provenance": [],
      "collapsed_sections": []
    },
    "kernelspec": {
      "name": "python3",
      "display_name": "Python 3"
    },
    "language_info": {
      "name": "python"
    }
  },
  "cells": [
    {
      "cell_type": "code",
      "execution_count": null,
      "metadata": {
        "id": "xo8QbiKd4itC"
      },
      "outputs": [],
      "source": [
        "#question1\n",
        "\n",
        "class Point3D:\n",
        "  def __init__(self,x,y,z):\n",
        "    self.x = x\n",
        "    self.y = y\n",
        "    self.z = z\n",
        "  \n",
        "  def ponit(self):\n",
        "    return self.x,self.y,self.z\n",
        "\n",
        "x = Point3D(1,2,3)\n",
        "\n",
        "\n",
        "x.ponit()"
      ]
    },
    {
      "cell_type": "code",
      "source": [
        "#question2\n",
        "class Rectangle():\n",
        "      def __init__(self, l, w):\n",
        "        self.lenght = l\n",
        "        self.width = w\n",
        "\n",
        "      def rectangle_area(self):\n",
        "        return self.lenght*self.width\n",
        "\n",
        "x = Rectangle(3,4)\n",
        "\n",
        "x.rectangle_area()"
      ],
      "metadata": {
        "id": "p12ZPNO5C1w4"
      },
      "execution_count": null,
      "outputs": []
    },
    {
      "cell_type": "code",
      "source": [
        "#question3\n",
        "import math\n",
        "class Circle:\n",
        "  def __init__(self, o, r):\n",
        "    self.o = o\n",
        "    self.r = r\n",
        "\n",
        "  def area(self):\n",
        "    return math.pi *self.r**2\n",
        "  \n",
        "  def peri(self):\n",
        "    return 2*3.14*self.r\n",
        "\n",
        "  def isinside(self, j, k):\n",
        "    if (j-self.o[0])**2 + (k-self.o[1])**2 < self.r**2:\n",
        "      return \"inside\"\n",
        "    else:\n",
        "      return \"outisde\"\n",
        "\n",
        "\n",
        "fsy = Circle((1,2),7)\n",
        "\n",
        "print(fsy.area())\n",
        "print(fsy.peri())\n",
        "print(fsy.isinside(0,1))"
      ],
      "metadata": {
        "id": "h_6C9eztC4L_"
      },
      "execution_count": null,
      "outputs": []
    },
    {
      "cell_type": "code",
      "source": [
        "#question4\n",
        "\n",
        "class Bank:\n",
        "  def __init__(self,b):\n",
        "    self.balance = b\n",
        "\n",
        "  def deposit(self,d):\n",
        "    self.balance += d\n",
        "    return self.balance\n",
        "\n",
        "  def withdraw(self, w):\n",
        "    self.balance -= w\n",
        "    return self.balance\n",
        "\n",
        "\n",
        "x = Bank(100)\n",
        "\n",
        "x.deposit(500)\n",
        "\n",
        "x.withdraw(200)"
      ],
      "metadata": {
        "id": "5p43TehdNnRP"
      },
      "execution_count": null,
      "outputs": []
    }
  ]
}